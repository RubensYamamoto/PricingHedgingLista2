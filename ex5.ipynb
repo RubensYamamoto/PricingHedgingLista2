{
 "cells": [
  {
   "cell_type": "markdown",
   "metadata": {},
   "source": [
    "# PRICING AND HEDGING - Lista 2\n",
    "## Exercício 5:\n",
    "Usando dados reais (2 períodos de 6 meses, um calmo e outro de crise), calcule breakeven smiles de 3 e 6\n",
    "meses.\n",
    "## Using methods from exercise 3:"
   ]
  },
  {
   "cell_type": "code",
   "execution_count": 1,
   "metadata": {
    "collapsed": true
   },
   "outputs": [],
   "source": [
    "from __future__ import division\n",
    "\n",
    "import numpy as np\n",
    "import matplotlib.pyplot as plt\n",
    "import pandas as pd\n",
    "import scipy.stats as st\n",
    "import scipy.optimize as opt\n",
    "\n",
    "%matplotlib inline\n",
    "\n",
    "def ca(x, size):\n",
    "    y = np.empty(size)\n",
    "    y.fill(x)\n",
    "    return y\n",
    "\n",
    "def ppzero(s):\n",
    "    return pd.Series(pd.Series.append(pd.Series([0]), s).values)\n",
    "\n",
    "def bsv(phi, S, K, r, q, vol, t):\n",
    "    if (t > 0):\n",
    "        fwd=S*np.exp((r-q)*t)\n",
    "        efv=t*(vol**2)\n",
    "        # calculate d1 and d2\n",
    "        d1=(np.log(fwd/K)+(efv/2))/(np.sqrt(efv))\n",
    "        d2=(np.log(fwd/K)-(efv/2))/(np.sqrt(efv))\n",
    "        # calculate N(d1) and N(d2)\n",
    "        Nd1=st.norm.cdf(phi*d1)\n",
    "        Nd2=st.norm.cdf(phi*d2)\n",
    "        # calculate premium\n",
    "        pr=phi*S*np.exp(-q*t)*Nd1-phi*K*np.exp(-r*t)*Nd2\n",
    "        # calculate delta\n",
    "        de=phi*np.exp(-q*t)*Nd1\n",
    "    else:\n",
    "        de = 0\n",
    "        if (phi == 1):\n",
    "            pr = max(S-K, 0)\n",
    "        else:\n",
    "            pr = max(K-S, 0)\n",
    "        \n",
    "    return [pr, de]\n",
    "\n",
    "def calcpath(path, phi, K ,r, q, vol, T):\n",
    "    ttm=T-path.index\n",
    "    bsvpath=np.array([[path.index[j], path.values[j]] + bsv(phi, path.values[j], K, r, q, vol, ttm[j])\\\n",
    "                      for j in range(len(path))])\n",
    "\n",
    "    return pd.DataFrame(bsvpath,columns=['time','spot','premium','delta'])\n",
    "\n",
    "def filldf(path, phi, K, r, q, vol, T):\n",
    "    nstp=len(path)-1\n",
    "    # calculate t,S(t),premium(t),delta(t)\n",
    "    df=calcpath(path, phi, K, r, q, vol, T)\n",
    "    # cashflows for the option\n",
    "    df['cfwprem']=0\n",
    "    df.loc[0,'cfwprem']=-df['premium'][0]\n",
    "    df.loc[nstp,'cfwprem']=df['premium'][nstp]\n",
    "    df.loc[nstp,'premium']=0\n",
    "    # calculate time intervals dt\n",
    "    df['timechg']=df['time'].diff()\n",
    "    df.loc[0,'timechg']=0\n",
    "    # calculate changes in delta\n",
    "    df.loc[nstp,'delta']=0\n",
    "    df['dltchg']=df['delta'].diff()\n",
    "    df.loc[0,'dltchg']=0\n",
    "    # calculate changes in spot price\n",
    "    df['spotchg']=df['spot'].diff()\n",
    "    df.loc[0,'spotchg']=0\n",
    "    # cashflows for the asset\n",
    "    df['cfwspot']=0\n",
    "    df.loc[0,'cfwspot']=df['delta'][0]*df['spot'][0]\n",
    "    df.loc[1:,'cfwspot']=df['dltchg'][1:]*df['spot'][1:]\n",
    "    # dividend cashflows\n",
    "    df['cfwdivid']=0\n",
    "    df.loc[1:,'cfwdivid']=-((df['delta'][0:nstp]*df['spot'][0:nstp]).values)*(np.exp(q*df['timechg'][1:].values)-1)\n",
    "    # cashflows before interest\n",
    "    df['cfwprer']=df['cfwprem']+df['cfwspot']+df['cfwdivid']\n",
    "    # interest and consolidation of cashflows\n",
    "    df['balance']=0\n",
    "    df.loc[0,'balance']=df['cfwprer'][0]\n",
    "    for j in range(1,nstp+1):\n",
    "        df.loc[j,'balance']=df['balance'][j-1]*(np.exp(r*df['timechg'][j]))+df['cfwprer'][j]\n",
    "    # portfolio\n",
    "    df['portf']=df['premium']-df['delta']*df['spot']+df['balance']\n",
    "    # consolidated discount factor\n",
    "    return df\n",
    "\n",
    "def portfolio(path, phi, K, r, q, vol, T):\n",
    "    fulldf=filldf(path, phi, K, r, q, vol, T)\n",
    "    return pd.Series(fulldf['portf'].values)\n",
    "\n",
    "def finalpl(vol, path, phi, K, r, q, T):\n",
    "    portf=portfolio(path, phi, K, r, q, vol, T)\n",
    "    return portf[len(path)-1]\n",
    "\n",
    "def getStrikeByDelta(phi, delta, S, r, q, vol, t):\n",
    "    return S * np.exp(phi* st.norm.ppf(delta * np.exp((r-q)*t)) * vol * np.sqrt(t) + ((vol**2)/2) * t)\n",
    "\n",
    "def bevSmilesByPath(path, phi, strikes, r, q, vol, T):\n",
    "    r = pd.Series(np.array([opt.newton(finalpl, vol, args=(path, phi, K, r, q, T)) for K in strikes]), index=strikes)\n",
    "    return r"
   ]
  },
  {
   "cell_type": "markdown",
   "metadata": {},
   "source": [
    "# Getting PETR4 quotes\n",
    "font: finance.yahoo.com\n",
    "column Adj Close (Close price adjusted for dividends and splits)\n",
    "## Building calm path: from 01-Jun-2010 to 30-Nov-2010 (6 months)"
   ]
  },
  {
   "cell_type": "code",
   "execution_count": 2,
   "metadata": {
    "collapsed": false
   },
   "outputs": [],
   "source": [
    "# 124 business days annualized\n",
    "nsteps_calm = 124\n",
    "t_calm = nsteps_calm/252\n",
    "dt_calm = t_calm/nsteps_calm\n",
    "\n",
    "ts_calm = pd.Series(ca(dt_calm, nsteps_calm))\n",
    "ts0_calm = ppzero(ts_calm)\n",
    "cmts_calm = ts0_calm.cumsum()\n",
    "\n",
    "S_calm = np.array([26.03094,26.4398,26.57609,26.82141,26.94861,26.84867,27.16667,26.91227,26.39437,26.34894\n",
    ",26.93952,26.82141,26.79415,26.71238,26.44889,25.89465,24.97698,25.35859,24.91338,24.37732\n",
    ",24.40457,24.03206,24.3228,24.11383,24.5772,24.89521,25.05875,24.74075,24.80435,24.80435\n",
    ",24.63172,24.3864,24.48635,25.12236,24.98607,25.42219,25.24956,25.3495,25.42219,25.25864\n",
    ",25.20413,25.30407,25.99884,26.5839,26.82159,26.90386,26.52905,26.35536,25.97141,25.13952\n",
    ",25.16695,25.28579,25.24008,25.87085,25.50519,24.48133,24.48133,24.37162,23.89626,23.84141\n",
    ",23.49403,24.28021,23.26549,23.82313,24.70987,25.23094,26.32794,26.59304,25.4412,25.05725\n",
    ",25.15781,25.87085,24.54532,24.17965,24.09738,24.17051,24.77386,24.08823,23.74999,24.49961\n",
    ",24.04253,24.22536,24.40819,25.13952,25.13952,25.13952,25.02982,24.66416,23.64029,23.12836\n",
    ",23.76828,23.63115,23.50317,24.17051,24.03339,24.13394,23.11008,22.84497,22.08621,22.13192\n",
    ",22.46102,23.63115,23.94197,24.00596,23.63115,24.21622,24.68244,25.13952,24.91098,25.16695\n",
    ",24.79214,24.80128,24.42647,23.63115,23.21978,23.26549,23.67686,23.49403,22.90896,22.53415\n",
    ",23.07351,22.71699,22.48845,22.57986,22.4793])\n",
    "\n",
    "path_calm=pd.Series(S_calm, index=cmts_calm.values)"
   ]
  },
  {
   "cell_type": "markdown",
   "metadata": {
    "collapsed": true
   },
   "source": [
    "### Breakeven smile of 3 months for calm path:"
   ]
  },
  {
   "cell_type": "code",
   "execution_count": 3,
   "metadata": {
    "collapsed": false
   },
   "outputs": [],
   "source": [
    "call = 1\n",
    "put = -1\n",
    "impliedVol = 0.10\n",
    "T = t_calm/2\n",
    "q = 0\n",
    "r = 0.099082194 # rate accumulated for the period (font: cetip.com.br)\n",
    "phi = call"
   ]
  },
  {
   "cell_type": "markdown",
   "metadata": {},
   "source": [
    "First we need to find the strikes related to each delta (-10 delta, -25 delta, ATM, 25 delta, 10 delta):"
   ]
  },
  {
   "cell_type": "code",
   "execution_count": 4,
   "metadata": {
    "collapsed": false
   },
   "outputs": [
    {
     "data": {
      "text/plain": [
       "[27.754325933850062,\n",
       " 26.923916755932627,\n",
       " 26.030940000000001,\n",
       " 25.229576784064179,\n",
       " 24.474708077600397]"
      ]
     },
     "execution_count": 4,
     "metadata": {},
     "output_type": "execute_result"
    }
   ],
   "source": [
    "strikeDeltaMinus10 = getStrikeByDelta(put, 0.10, path_calm[0], r, q, impliedVol, T)\n",
    "strikeMinus25 = getStrikeByDelta(put, 0.25, path_calm[0], r, q, impliedVol, T)\n",
    "strikeATM = path_calm[0]\n",
    "strikePlus25 = getStrikeByDelta(call, 0.25, path_calm[0], r, q, impliedVol, T)\n",
    "strikePlus10 = getStrikeByDelta(call, 0.10, path_calm[0], r, q, impliedVol, T)\n",
    "\n",
    "strikes = [strikeDeltaMinus10, strikeMinus25, strikeATM, strikePlus25, strikePlus10]\n",
    "strikes"
   ]
  },
  {
   "cell_type": "markdown",
   "metadata": {},
   "source": [
    "Find Break Even Smile for each strike:"
   ]
  },
  {
   "cell_type": "code",
   "execution_count": 5,
   "metadata": {
    "collapsed": false
   },
   "outputs": [
    {
     "data": {
      "text/plain": [
       "27.754326    0.226244\n",
       "26.923917    0.238308\n",
       "26.030940    0.249104\n",
       "25.229577    0.251220\n",
       "24.474708    0.288935\n",
       "dtype: float64"
      ]
     },
     "execution_count": 5,
     "metadata": {},
     "output_type": "execute_result"
    }
   ],
   "source": [
    "calmPath3M = bevSmilesByPath(path_calm[:62], call, strikes, r, q, 0.30, T)\n",
    "calmPath3M"
   ]
  },
  {
   "cell_type": "code",
   "execution_count": 6,
   "metadata": {
    "collapsed": false
   },
   "outputs": [
    {
     "data": {
      "text/plain": [
       "<matplotlib.axes._subplots.AxesSubplot at 0x18aa509d5c0>"
      ]
     },
     "execution_count": 6,
     "metadata": {},
     "output_type": "execute_result"
    },
    {
     "data": {
      "image/png": "[encoded data removed]",
      "text/plain": [
       "<matplotlib.figure.Figure at 0x18aa509f128>"
      ]
     },
     "metadata": {},
     "output_type": "display_data"
    }
   ],
   "source": [
    "calmPath3M.plot()"
   ]
  },
  {
   "cell_type": "markdown",
   "metadata": {},
   "source": [
    "### Breakeven smile of 6 months for calm path:"
   ]
  },
  {
   "cell_type": "code",
   "execution_count": 7,
   "metadata": {
    "collapsed": true
   },
   "outputs": [],
   "source": [
    "call = 1\n",
    "put = -1\n",
    "impliedVol = 0.10\n",
    "T = t_calm\n",
    "q = 0\n",
    "r = 0.10376036 # rate accumulated for the period (font: cetip.com.br)\n",
    "phi = call"
   ]
  },
  {
   "cell_type": "markdown",
   "metadata": {},
   "source": [
    "Find the strikes related to each delta (-10 delta, -25 delta, ATM, 25 delta, 10 delta):"
   ]
  },
  {
   "cell_type": "code",
   "execution_count": 8,
   "metadata": {
    "collapsed": false
   },
   "outputs": [
    {
     "data": {
      "text/plain": [
       "[28.491006148364853,\n",
       " 27.281467490902205,\n",
       " 26.030940000000001,\n",
       " 24.960252778727973,\n",
       " 23.900606430027732]"
      ]
     },
     "execution_count": 8,
     "metadata": {},
     "output_type": "execute_result"
    }
   ],
   "source": [
    "strikeDeltaMinus10 = getStrikeByDelta(put, 0.10, path_calm[0], r, q, impliedVol, T)\n",
    "strikeMinus25 = getStrikeByDelta(put, 0.25, path_calm[0], r, q, impliedVol, T)\n",
    "strikeATM = path_calm[0]\n",
    "strikePlus25 = getStrikeByDelta(call, 0.25, path_calm[0], r, q, impliedVol, T)\n",
    "strikePlus10 = getStrikeByDelta(call, 0.10, path_calm[0], r, q, impliedVol, T)\n",
    "\n",
    "strikes = [strikeDeltaMinus10, strikeMinus25, strikeATM, strikePlus25, strikePlus10]\n",
    "strikes"
   ]
  },
  {
   "cell_type": "markdown",
   "metadata": {},
   "source": [
    "Find Break Even Smile for each strike:"
   ]
  },
  {
   "cell_type": "code",
   "execution_count": 9,
   "metadata": {
    "collapsed": false
   },
   "outputs": [
    {
     "data": {
      "text/plain": [
       "28.491006    0.304734\n",
       "27.281467    0.309279\n",
       "26.030940    0.313200\n",
       "24.960253    0.316004\n",
       "23.900606    0.316421\n",
       "dtype: float64"
      ]
     },
     "execution_count": 9,
     "metadata": {},
     "output_type": "execute_result"
    }
   ],
   "source": [
    "calmPath6M = bevSmilesByPath(path_calm, call, strikes, r, q, 0.30, T)\n",
    "calmPath6M"
   ]
  },
  {
   "cell_type": "code",
   "execution_count": 10,
   "metadata": {
    "collapsed": false
   },
   "outputs": [
    {
     "data": {
      "text/plain": [
       "<matplotlib.axes._subplots.AxesSubplot at 0x18aa9826b38>"
      ]
     },
     "execution_count": 10,
     "metadata": {},
     "output_type": "execute_result"
    },
    {
     "data": {
      "image/png": "[encoded data removed]",
      "text/plain": [
       "<matplotlib.figure.Figure at 0x18aa949e780>"
      ]
     },
     "metadata": {},
     "output_type": "display_data"
    }
   ],
   "source": [
    "calmPath6M.plot()"
   ]
  },
  {
   "cell_type": "markdown",
   "metadata": {
    "collapsed": true
   },
   "source": [
    "## Building path during crisis: from 01-Dec-2015 to 31-May-2016 (6 months)"
   ]
  },
  {
   "cell_type": "code",
   "execution_count": 11,
   "metadata": {
    "collapsed": true
   },
   "outputs": [],
   "source": [
    "# 130 business days annualized\n",
    "nsteps_crisis = 130\n",
    "t_crisis = nsteps_crisis/252\n",
    "dt_crisis = t_crisis/nsteps_crisis\n",
    "\n",
    "ts_crisis = pd.Series(ca(dt_crisis, nsteps_crisis))\n",
    "ts0_crisis = ppzero(ts_crisis)\n",
    "cmts_crisis = ts0_crisis.cumsum()\n",
    "\n",
    "S_crisis = np.array([7.49,7.52,7.98,7.52,7.19,7.13,7.65,7.45,7.25,7.21,7.42,7.29,7.2,7.02,6.64,6.79,6.93,6.93\n",
    ",6.93,6.7,6.69,6.7,6.7,6.7,6.87,6.68,6.4,6.26,6.27,6.09,5.53,5.27,5.69,5.17,4.8,4.66\n",
    ",4.43,4.5,4.41,4.41,4.2,4.57,4.6,4.84,4.72,4.3,4.49,4.73,4.54,4.54,4.54,4.31,4.23,4.45\n",
    ",4.57,4.44,4.68,4.59,4.46,5.04,4.92,4.87,4.89,4.87,5.14,5.31,5.65,6.57,7.22,7.37,7.47\n",
    ",7.6,7.95,8.09,7.4,6.61,7.23,8.1,8.12,8.06,8.11,7.78,7.81,7.81,8.44,8.49,8.44,8.35,8.36\n",
    ",7.58,7.83,7.58,7.7,8.26,8.39,9.03,9.51,9.16,9.69,9.24,9.62,9.48,9.48,9.75,9.33,9.67\n",
    ",10.25,10.23,10.23,10.17,9.78,9.92,9.81,10.08,9.48,10.21,10.25,9.79,9.46,9.75,9.5,9.32\n",
    ",8.96,8.9,8.5,8.53,8.67,8.67,8.23,8.38,8.04])\n",
    "\n",
    "path_crisis=pd.Series(S_crisis, index=cmts_crisis.values)"
   ]
  },
  {
   "cell_type": "markdown",
   "metadata": {},
   "source": [
    "### Breakeven smile of 3 months for path during crisis:"
   ]
  },
  {
   "cell_type": "code",
   "execution_count": 12,
   "metadata": {
    "collapsed": true
   },
   "outputs": [],
   "source": [
    "call = 1\n",
    "put = -1\n",
    "impliedVol = 0.10\n",
    "T = t_crisis/2\n",
    "q = 0\n",
    "r = 0.134276121 # rate accumulated for the period annualized (font: cetip.com.br)\n",
    "phi = call"
   ]
  },
  {
   "cell_type": "markdown",
   "metadata": {},
   "source": [
    "First we need to find the strikes related to each delta (-10 delta, -25 delta, ATM, 25 delta, 10 delta):"
   ]
  },
  {
   "cell_type": "code",
   "execution_count": 13,
   "metadata": {
    "collapsed": false
   },
   "outputs": [
    {
     "data": {
      "text/plain": [
       "[7.9959742758204451,\n",
       " 7.7502014717950169,\n",
       " 7.4900000000000002,\n",
       " 7.2572293281153222,\n",
       " 7.0341633776882295]"
      ]
     },
     "execution_count": 13,
     "metadata": {},
     "output_type": "execute_result"
    }
   ],
   "source": [
    "strikeDeltaMinus10 = getStrikeByDelta(put, 0.10, path_crisis[0], r, q, impliedVol, T)\n",
    "strikeMinus25 = getStrikeByDelta(put, 0.25, path_crisis[0], r, q, impliedVol, T)\n",
    "strikeATM = path_crisis[0]\n",
    "strikePlus25 = getStrikeByDelta(call, 0.25, path_crisis[0], r, q, impliedVol, T)\n",
    "strikePlus10 = getStrikeByDelta(call, 0.10, path_crisis[0], r, q, impliedVol, T)\n",
    "\n",
    "strikes = [strikeDeltaMinus10, strikeMinus25, strikeATM, strikePlus25, strikePlus10]\n",
    "strikes"
   ]
  },
  {
   "cell_type": "markdown",
   "metadata": {},
   "source": [
    "Find Break Even Smile for each strike:"
   ]
  },
  {
   "cell_type": "code",
   "execution_count": 14,
   "metadata": {
    "collapsed": false
   },
   "outputs": [
    {
     "data": {
      "text/plain": [
       "7.995974    0.644900\n",
       "7.750201    1.008283\n",
       "7.490000    1.296473\n",
       "7.257229    1.511838\n",
       "7.034163    1.696998\n",
       "dtype: float64"
      ]
     },
     "execution_count": 14,
     "metadata": {},
     "output_type": "execute_result"
    }
   ],
   "source": [
    "crisisPath3M = bevSmilesByPath(path_crisis[:66], call, strikes, r, q, 0.30, T)\n",
    "crisisPath3M"
   ]
  },
  {
   "cell_type": "code",
   "execution_count": 15,
   "metadata": {
    "collapsed": false
   },
   "outputs": [
    {
     "data": {
      "text/plain": [
       "<matplotlib.axes._subplots.AxesSubplot at 0x18aa9894780>"
      ]
     },
     "execution_count": 15,
     "metadata": {},
     "output_type": "execute_result"
    },
    {
     "data": {
      "image/png": "[encoded data removed]",
      "text/plain": [
       "<matplotlib.figure.Figure at 0x18aa982c780>"
      ]
     },
     "metadata": {},
     "output_type": "display_data"
    }
   ],
   "source": [
    "crisisPath3M.plot()"
   ]
  },
  {
   "cell_type": "markdown",
   "metadata": {},
   "source": [
    "### Breakeven smile of 6 months for path during crisis:"
   ]
  },
  {
   "cell_type": "code",
   "execution_count": 16,
   "metadata": {
    "collapsed": true
   },
   "outputs": [],
   "source": [
    "call = 1\n",
    "put = -1\n",
    "impliedVol = 0.10\n",
    "T = t_crisis\n",
    "q = 0\n",
    "r = 0.13763556 # rate accumulated for the period (font: cetip.com.br)\n",
    "phi = call"
   ]
  },
  {
   "cell_type": "markdown",
   "metadata": {},
   "source": [
    "Find the strikes related to each delta (-10 delta, -25 delta, ATM, 25 delta, 10 delta):"
   ]
  },
  {
   "cell_type": "code",
   "execution_count": 17,
   "metadata": {
    "collapsed": false
   },
   "outputs": [
    {
     "data": {
      "text/plain": [
       "[8.2092415430002728,\n",
       " 7.8499878345339216,\n",
       " 7.4900000000000002,\n",
       " 7.1834828580066405,\n",
       " 6.8691185110781694]"
      ]
     },
     "execution_count": 17,
     "metadata": {},
     "output_type": "execute_result"
    }
   ],
   "source": [
    "strikeDeltaMinus10 = getStrikeByDelta(put, 0.10, path_crisis[0], r, q, impliedVol, T)\n",
    "strikeMinus25 = getStrikeByDelta(put, 0.25, path_crisis[0], r, q, impliedVol, T)\n",
    "strikeATM = path_crisis[0]\n",
    "strikePlus25 = getStrikeByDelta(call, 0.25, path_crisis[0], r, q, impliedVol, T)\n",
    "strikePlus10 = getStrikeByDelta(call, 0.10, path_crisis[0], r, q, impliedVol, T)\n",
    "\n",
    "strikes = [strikeDeltaMinus10, strikeMinus25, strikeATM, strikePlus25, strikePlus10]\n",
    "strikes"
   ]
  },
  {
   "cell_type": "markdown",
   "metadata": {},
   "source": [
    "Find Break Even Smile for each strike:"
   ]
  },
  {
   "cell_type": "code",
   "execution_count": 18,
   "metadata": {
    "collapsed": false
   },
   "outputs": [
    {
     "data": {
      "text/plain": [
       "8.209242    0.672683\n",
       "7.849988    0.690923\n",
       "7.490000    0.730691\n",
       "7.183483    0.753598\n",
       "6.869119    0.771447\n",
       "dtype: float64"
      ]
     },
     "execution_count": 18,
     "metadata": {},
     "output_type": "execute_result"
    }
   ],
   "source": [
    "crisisPath6M = bevSmilesByPath(path_crisis, call, strikes, r, q, 0.30, T)\n",
    "crisisPath6M"
   ]
  },
  {
   "cell_type": "code",
   "execution_count": 19,
   "metadata": {
    "collapsed": false
   },
   "outputs": [
    {
     "data": {
      "text/plain": [
       "<matplotlib.axes._subplots.AxesSubplot at 0x18aa98ec390>"
      ]
     },
     "execution_count": 19,
     "metadata": {},
     "output_type": "execute_result"
    },
    {
     "data": {
      "image/png": "[encoded data removed]",
      "text/plain": [
       "<matplotlib.figure.Figure at 0x18aa982c160>"
      ]
     },
     "metadata": {},
     "output_type": "display_data"
    }
   ],
   "source": [
    "crisisPath6M.plot()"
   ]
  },
  {
   "cell_type": "code",
   "execution_count": null,
   "metadata": {
    "collapsed": true
   },
   "outputs": [],
   "source": []
  }
 ],
 "metadata": {
  "kernelspec": {
   "display_name": "Python 3",
   "language": "python",
   "name": "python3"
  },
  "language_info": {
   "codemirror_mode": {
    "name": "ipython",
    "version": 3
   },
   "file_extension": ".py",
   "mimetype": "text/x-python",
   "name": "python",
   "nbconvert_exporter": "python",
   "pygments_lexer": "ipython3",
   "version": "3.5.1"
  }
 },
 "nbformat": 4,
 "nbformat_minor": 0
}
