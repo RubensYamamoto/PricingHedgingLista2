{
 "cells": [
  {
   "cell_type": "markdown",
   "metadata": {},
   "source": [
    "# PRICING AND HEDGING - Lista 2"
   ]
  },
  {
   "cell_type": "markdown",
   "metadata": {},
   "source": [
    "## Exercício 3:\n",
    "\n",
    "Usem as primeiras 20 trilhas e gerem o breakeven smile para cada uma dessas trajetórias (usem 5 strikes para cada smile, -10 delta, -25 delta, ATM, 25 delta, 10 delta). Algo a observar?\n",
    "    "
   ]
  },
  {
   "cell_type": "markdown",
   "metadata": {},
   "source": [
    "## Using methods from exercise 2"
   ]
  },
  {
   "cell_type": "code",
   "execution_count": 3,
   "metadata": {
    "collapsed": true
   },
   "outputs": [],
   "source": [
    "from __future__ import division\n",
    "\n",
    "import numpy as np\n",
    "import matplotlib.pyplot as plt\n",
    "import pandas as pd\n",
    "import scipy.stats as st\n",
    "\n",
    "%matplotlib inline\n",
    "\n",
    "def ca(x, size):\n",
    "    y = np.empty(size)\n",
    "    y.fill(x)\n",
    "    return y\n",
    "\n",
    "def ppzero(s):\n",
    "    return pd.Series(pd.Series.append(pd.Series([0]), s).values)\n",
    "\n",
    "def mcpath(nsteps, S0, drift, vol, t):\n",
    "    # Generates nsteps random numbers N(0, 1)\n",
    "    nmdr = pd.Series(np.random.standard_normal(nsteps))\n",
    "    # Time discretization\n",
    "    dt = t/nsteps\n",
    "    # Create an array of dt\n",
    "    ts = pd.Series(ca(dt, nsteps))\n",
    "    # Include initial t0\n",
    "    ts0 = ppzero(ts)\n",
    "    s1 = (drift - pow(vol, 2)/2) * dt\n",
    "    s2 = vol * np.sqrt(dt)\n",
    "    # Steps = Sum of two vectors\n",
    "    steps = s1 * pd.Series(ca(1, nsteps)) + s2 * nmdr\n",
    "    steps0 = ppzero(steps)\n",
    "    # Accumulate\n",
    "    cmsteps = steps0.cumsum()\n",
    "    cmts = ts0.cumsum()\n",
    "    # Convert steps to path\n",
    "    Sj = S0 * np.exp( cmsteps.values )\n",
    "    # create timeseries [t,St]\n",
    "    path=pd.Series(Sj, index=cmts.values)\n",
    "    \n",
    "    return path\n",
    "\n",
    "def mcpaths(npaths, nsteps, S0, drift, vol, t):\n",
    "    # generate npaths using mcpath\n",
    "    paths=[mcpath(nsteps, S0, drift, vol, t) for j in range(npaths)]\n",
    "    return paths\n",
    "\n",
    "def bsv(phi, S, K, r, q, vol, t):\n",
    "    if (t > 0):\n",
    "        fwd=S*np.exp((r-q)*t)\n",
    "        efv=t*(vol**2)\n",
    "        # calculate d1 and d2\n",
    "        d1=(np.log(fwd/K)+(efv/2))/(np.sqrt(efv))\n",
    "        d2=(np.log(fwd/K)-(efv/2))/(np.sqrt(efv))\n",
    "        # calculate N(d1) and N(d2)\n",
    "        Nd1=st.norm.cdf(phi*d1)\n",
    "        Nd2=st.norm.cdf(phi*d2)\n",
    "        # calculate premium\n",
    "        pr=phi*S*np.exp(-q*t)*Nd1-phi*K*np.exp(-r*t)*Nd2\n",
    "        # calculate delta\n",
    "        de=phi*np.exp(-q*t)*Nd1\n",
    "    else:\n",
    "        de = 0\n",
    "        if (phi == 1):\n",
    "            pr = max(S-K, 0)\n",
    "        else:\n",
    "            pr = max(K-S, 0)\n",
    "        \n",
    "    return [pr, de]\n",
    "\n",
    "def calcpath(path, phi, K ,r, q, vol, T):\n",
    "    ttm=T-path.index\n",
    "    bsvpath=np.array([[path.index[j], path.values[j]] + bsv(phi, path.values[j], K, r, q, vol, ttm[j])\\\n",
    "                      for j in range(len(path))])\n",
    "\n",
    "    return pd.DataFrame(bsvpath,columns=['time','spot','premium','delta'])\n",
    "\n",
    "def filldf(path, phi, K, r, q, vol, T):\n",
    "    nstp=len(path)-1\n",
    "    # calculate t,S(t),premium(t),delta(t)\n",
    "    df=calcpath(path, phi, K, r, q, vol, T)\n",
    "    # cashflows for the option\n",
    "    df['cfwprem']=0\n",
    "    df.loc[0,'cfwprem']=-df['premium'][0]\n",
    "    df.loc[nstp,'cfwprem']=df['premium'][nstp]\n",
    "    df.loc[nstp,'premium']=0\n",
    "    # calculate time intervals dt\n",
    "    df['timechg']=df['time'].diff()\n",
    "    df.loc[0,'timechg']=0\n",
    "    # calculate changes in delta\n",
    "    df.loc[nstp,'delta']=0\n",
    "    df['dltchg']=df['delta'].diff()\n",
    "    df.loc[0,'dltchg']=0\n",
    "    # calculate changes in spot price\n",
    "    df['spotchg']=df['spot'].diff()\n",
    "    df.loc[0,'spotchg']=0\n",
    "    # cashflows for the asset\n",
    "    df['cfwspot']=0\n",
    "    df.loc[0,'cfwspot']=df['delta'][0]*df['spot'][0]\n",
    "    df.loc[1:,'cfwspot']=df['dltchg'][1:]*df['spot'][1:]\n",
    "    # dividend cashflows\n",
    "    df['cfwdivid']=0\n",
    "    df.loc[1:,'cfwdivid']=-((df['delta'][0:nstp]*df['spot'][0:nstp]).values)*(np.exp(q*df['timechg'][1:].values)-1)\n",
    "    # cashflows before interest\n",
    "    df['cfwprer']=df['cfwprem']+df['cfwspot']+df['cfwdivid']\n",
    "    # interest and consolidation of cashflows\n",
    "    df['balance']=0\n",
    "    df.loc[0,'balance']=df['cfwprer'][0]\n",
    "    for j in range(1,nstp+1):\n",
    "        df.loc[j,'balance']=df['balance'][j-1]*(np.exp(r*df['timechg'][j]))+df['cfwprer'][j]\n",
    "    # portfolio\n",
    "    df['portf']=df['premium']-df['delta']*df['spot']+df['balance']\n",
    "    # consolidated discount factor\n",
    "    return df\n",
    "\n",
    "def portfolio(path, phi, K, r, q, vol, T):\n",
    "    fulldf=filldf(path, phi, K, r, q, vol, T)\n",
    "    return pd.Series(fulldf['portf'].values)\n",
    "\n",
    "def finalpl(vol, path, phi, K, r, q, T):\n",
    "    portf=portfolio(path, phi, K, r, q, vol, T)\n",
    "    return portf[len(path)-1]"
   ]
  },
  {
   "cell_type": "markdown",
   "metadata": {},
   "source": [
    "## Running the exercise"
   ]
  },
  {
   "cell_type": "code",
   "execution_count": 7,
   "metadata": {
    "collapsed": true
   },
   "outputs": [],
   "source": [
    "call = 1\n",
    "put = -1\n",
    "S0 = 100\n",
    "K = 100\n",
    "actualVol = 0.30\n",
    "impliedVol = 0.20\n",
    "T = 1\n",
    "q = 0\n",
    "r = 0\n",
    "numPaths = 500\n",
    "numSteps = 500\n",
    "phi = call\n",
    "\n",
    "paths = mcpaths(numPaths, numSteps, S0, r-q, actualVol, T)"
   ]
  },
  {
   "cell_type": "markdown",
   "metadata": {},
   "source": [
    "First we need to find the strikes related to each delta (-10 delta, -25 delta, ATM, 25 delta, 10 delta):"
   ]
  },
  {
   "cell_type": "code",
   "execution_count": 13,
   "metadata": {
    "collapsed": true
   },
   "outputs": [],
   "source": [
    "def getStrikeByDelta(phi, delta, S, r, q, vol, t):\n",
    "    return S * np.exp(phi* st.norm.ppf(delta * np.exp((r-q)*t)) * vol * np.sqrt(t) + ((vol**2)/2) * t)   "
   ]
  },
  {
   "cell_type": "code",
   "execution_count": 14,
   "metadata": {
    "collapsed": false
   },
   "outputs": [
    {
     "data": {
      "text/plain": [
       "[131.82568729522069,\n",
       " 116.75388077358872,\n",
       " 100,\n",
       " 89.145711242844911,\n",
       " 78.95356326582359]"
      ]
     },
     "execution_count": 14,
     "metadata": {},
     "output_type": "execute_result"
    }
   ],
   "source": [
    "strikeDeltaMinus10 = getStrikeByDelta(put, 0.10, S0, r, q, impliedVol, T)\n",
    "strikeMinus25 = getStrikeByDelta(put, 0.25, S0, r, q, impliedVol, T)\n",
    "strikeATM = S0\n",
    "strikePlus25 = getStrikeByDelta(call, 0.25, S0, r, q, impliedVol, T)\n",
    "strikePlus10 = getStrikeByDelta(call, 0.10, S0, r, q, impliedVol, T)\n",
    "\n",
    "strikes = [deltaMinus10, strikeMinus25, strikeATM, strikePlus25, strikePlus10]\n",
    "strikes"
   ]
  },
  {
   "cell_type": "markdown",
   "metadata": {},
   "source": [
    "Find Break Even Smile of path using Newthon method for each strike:"
   ]
  },
  {
   "cell_type": "code",
   "execution_count": 23,
   "metadata": {
    "collapsed": true
   },
   "outputs": [],
   "source": [
    "import scipy.optimize as opt\n",
    "\n",
    "def bevSmilesByPath(path, phi, strikes, r, q, vol, T):\n",
    "    r = pd.Series(np.array([opt.newton(finalpl, vol, args=(path, phi, K, r, q, T)) for K in strikes]), index=strikes)\n",
    "    return r"
   ]
  },
  {
   "cell_type": "code",
   "execution_count": 27,
   "metadata": {
    "collapsed": false
   },
   "outputs": [
    {
     "data": {
      "text/plain": [
       "131.825687    0.307649\n",
       "116.753881    0.308866\n",
       "100.000000    0.306822\n",
       "89.145711     0.304355\n",
       "78.953563     0.300725\n",
       "dtype: float64"
      ]
     },
     "execution_count": 27,
     "metadata": {},
     "output_type": "execute_result"
    }
   ],
   "source": [
    "testPath0 = bevSmileByStrike(paths[0], call, strikes, r, q, actualVol, T)\n",
    "testPath0"
   ]
  },
  {
   "cell_type": "markdown",
   "metadata": {},
   "source": [
    "Find Break Even Smiles for the first twentieth paths:"
   ]
  },
  {
   "cell_type": "code",
   "execution_count": 28,
   "metadata": {
    "collapsed": true
   },
   "outputs": [],
   "source": [
    "def bevSmilesByPaths(paths, phi, strikes, r, q, vol, T):\n",
    "    r = pd.DataFrame([bevSmilesByPath(path, phi, strikes, r, q, vol, T) for path in paths])\n",
    "    return r"
   ]
  },
  {
   "cell_type": "code",
   "execution_count": 29,
   "metadata": {
    "collapsed": false
   },
   "outputs": [],
   "source": [
    "bevSmiles = bevSmilesByPaths(paths[:20], call, strikes, r, q, actualVol, T)"
   ]
  },
  {
   "cell_type": "markdown",
   "metadata": {},
   "source": [
    "Plot Break Even Smiles:"
   ]
  },
  {
   "cell_type": "code",
   "execution_count": 30,
   "metadata": {
    "collapsed": false
   },
   "outputs": [
    {
     "data": {
      "text/plain": [
       "<matplotlib.axes._subplots.AxesSubplot at 0x185129b5e48>"
      ]
     },
     "execution_count": 30,
     "metadata": {},
     "output_type": "execute_result"
    },
    {
     "data": {
      "image/png": "[encoded data removed]",
      "text/plain": [
       "<matplotlib.figure.Figure at 0x185106099e8>"
      ]
     },
     "metadata": {},
     "output_type": "display_data"
    }
   ],
   "source": [
    "bevSmiles.transpose().plot(legend=False)"
   ]
  },
  {
   "cell_type": "code",
   "execution_count": null,
   "metadata": {
    "collapsed": true
   },
   "outputs": [],
   "source": []
  }
 ],
 "metadata": {
  "kernelspec": {
   "display_name": "Python 3",
   "language": "python",
   "name": "python3"
  },
  "language_info": {
   "codemirror_mode": {
    "name": "ipython",
    "version": 3
   },
   "file_extension": ".py",
   "mimetype": "text/x-python",
   "name": "python",
   "nbconvert_exporter": "python",
   "pygments_lexer": "ipython3",
   "version": "3.5.1"
  }
 },
 "nbformat": 4,
 "nbformat_minor": 0
}
