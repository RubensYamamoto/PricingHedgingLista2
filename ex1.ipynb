{
 "cells": [
  {
   "cell_type": "markdown",
   "metadata": {},
   "source": [
    "# PRICING AND HEDGING - Lista 2"
   ]
  },
  {
   "cell_type": "markdown",
   "metadata": {},
   "source": [
    "Exercício 1:\n",
    "\n",
    "Usando o construtor de portfolios hedgeados e simulação de Monte Carlo que vocês ou já tem ou vão poder\n",
    "copiar/adaptar de https://github.com/MarcosCarreira/DermanPapers e o paper do Wilmott, simulem o tipo de\n",
    "resultado que ele obteve:\n",
    "\n",
    "Output desejado:\n",
    "Os dois gráficos de P&L no tempo para os casos de hedge com vol real e vol implícita (páginas 24 e 31)\n",
    "Distribuição do P&L final e comparação com resultados teóricos (páginas 21 e 29 e paper do Derman)\n",
    "Podem usar r=q=0 e K=S0\n",
    "Para o gráfico 20 trilhas servem\n",
    "Para a distribuição umas 500.\n",
    "Dica: Usem como inputs volpricing=implícita e voldelta=implícita ou real\n",
    "O Monte Carlo usa a vol real."
   ]
  },
  {
   "cell_type": "code",
   "execution_count": 2,
   "metadata": {
    "collapsed": true
   },
   "outputs": [],
   "source": [
    "from __future__ import division\n",
    "\n",
    "import numpy as np\n",
    "import matplotlib.pyplot as plt\n",
    "import pandas as pd\n",
    "import scipy.stats as st\n",
    "\n",
    "%matplotlib inline"
   ]
  },
  {
   "cell_type": "markdown",
   "metadata": {},
   "source": [
    "Allocates an empty array and fills it with x:"
   ]
  },
  {
   "cell_type": "code",
   "execution_count": 3,
   "metadata": {
    "collapsed": true
   },
   "outputs": [],
   "source": [
    "def ca(x, size):\n",
    "    y = np.empty(size)\n",
    "    y.fill(x)\n",
    "    return y"
   ]
  },
  {
   "cell_type": "code",
   "execution_count": null,
   "metadata": {
    "collapsed": true
   },
   "outputs": [],
   "source": []
  }
 ],
 "metadata": {
  "kernelspec": {
   "display_name": "Python 3",
   "language": "python",
   "name": "python3"
  },
  "language_info": {
   "codemirror_mode": {
    "name": "ipython",
    "version": 3
   },
   "file_extension": ".py",
   "mimetype": "text/x-python",
   "name": "python",
   "nbconvert_exporter": "python",
   "pygments_lexer": "ipython3",
   "version": "3.5.1"
  }
 },
 "nbformat": 4,
 "nbformat_minor": 0
}
